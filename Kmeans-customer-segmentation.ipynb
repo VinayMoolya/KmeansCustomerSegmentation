{
 "cells": [
  {
   "cell_type": "code",
   "execution_count": 1,
   "id": "36ba4e13",
   "metadata": {
    "_cell_guid": "b1076dfc-b9ad-4769-8c92-a6c4dae69d19",
    "_uuid": "8f2839f25d086af736a60e9eeb907d3b93b6e0e5",
    "execution": {
     "iopub.execute_input": "2023-03-07T09:58:10.954146Z",
     "iopub.status.busy": "2023-03-07T09:58:10.953597Z",
     "iopub.status.idle": "2023-03-07T09:58:12.319811Z",
     "shell.execute_reply": "2023-03-07T09:58:12.318376Z"
    },
    "papermill": {
     "duration": 1.379827,
     "end_time": "2023-03-07T09:58:12.322661",
     "exception": false,
     "start_time": "2023-03-07T09:58:10.942834",
     "status": "completed"
    },
    "tags": []
   },
   "outputs": [
    {
     "name": "stdout",
     "output_type": "stream",
     "text": [
      "/kaggle/input/customer-segmentation-tutorial-in-python/Mall_Customers.csv\n"
     ]
    }
   ],
   "source": [
    "# This Python 3 environment comes with many helpful analytics libraries installed\n",
    "# It is defined by the kaggle/python Docker image: https://github.com/kaggle/docker-python\n",
    "# For example, here's several helpful packages to load\n",
    "\n",
    "import numpy as np # linear algebra\n",
    "import pandas as pd # data processing, CSV file I/O (e.g. pd.read_csv)\n",
    "import seaborn as sns\n",
    "import matplotlib.pyplot as plt\n",
    "# Input data files are available in the read-only \"../input/\" directory\n",
    "# For example, running this (by clicking run or pressing Shift+Enter) will list all files under the input directory\n",
    "\n",
    "import os\n",
    "for dirname, _, filenames in os.walk('/kaggle/input'):\n",
    "    for filename in filenames:\n",
    "        print(os.path.join(dirname, filename))\n",
    "\n",
    "# You can write up to 20GB to the current directory (/kaggle/working/) that gets preserved as output when you create a version using \"Save & Run All\" \n",
    "# You can also write temporary files to /kaggle/temp/, but they won't be saved outside of the current session"
   ]
  },
  {
   "cell_type": "markdown",
   "id": "2f982ef5",
   "metadata": {
    "papermill": {
     "duration": 0.005688,
     "end_time": "2023-03-07T09:58:12.334743",
     "exception": false,
     "start_time": "2023-03-07T09:58:12.329055",
     "status": "completed"
    },
    "tags": []
   },
   "source": [
    "**IMPLEMENTING THE CUSTOMER SEGMENTATION USING KMEANS CLUSTERING**"
   ]
  },
  {
   "cell_type": "code",
   "execution_count": 2,
   "id": "6469c51d",
   "metadata": {
    "execution": {
     "iopub.execute_input": "2023-03-07T09:58:12.348291Z",
     "iopub.status.busy": "2023-03-07T09:58:12.347871Z",
     "iopub.status.idle": "2023-03-07T09:58:12.396707Z",
     "shell.execute_reply": "2023-03-07T09:58:12.395368Z"
    },
    "papermill": {
     "duration": 0.059052,
     "end_time": "2023-03-07T09:58:12.399664",
     "exception": false,
     "start_time": "2023-03-07T09:58:12.340612",
     "status": "completed"
    },
    "tags": []
   },
   "outputs": [
    {
     "data": {
      "text/html": [
       "<div>\n",
       "<style scoped>\n",
       "    .dataframe tbody tr th:only-of-type {\n",
       "        vertical-align: middle;\n",
       "    }\n",
       "\n",
       "    .dataframe tbody tr th {\n",
       "        vertical-align: top;\n",
       "    }\n",
       "\n",
       "    .dataframe thead th {\n",
       "        text-align: right;\n",
       "    }\n",
       "</style>\n",
       "<table border=\"1\" class=\"dataframe\">\n",
       "  <thead>\n",
       "    <tr style=\"text-align: right;\">\n",
       "      <th></th>\n",
       "      <th>CustomerID</th>\n",
       "      <th>Gender</th>\n",
       "      <th>Age</th>\n",
       "      <th>Annual Income (k$)</th>\n",
       "      <th>Spending Score (1-100)</th>\n",
       "    </tr>\n",
       "  </thead>\n",
       "  <tbody>\n",
       "    <tr>\n",
       "      <th>0</th>\n",
       "      <td>1</td>\n",
       "      <td>Male</td>\n",
       "      <td>19</td>\n",
       "      <td>15</td>\n",
       "      <td>39</td>\n",
       "    </tr>\n",
       "    <tr>\n",
       "      <th>1</th>\n",
       "      <td>2</td>\n",
       "      <td>Male</td>\n",
       "      <td>21</td>\n",
       "      <td>15</td>\n",
       "      <td>81</td>\n",
       "    </tr>\n",
       "    <tr>\n",
       "      <th>2</th>\n",
       "      <td>3</td>\n",
       "      <td>Female</td>\n",
       "      <td>20</td>\n",
       "      <td>16</td>\n",
       "      <td>6</td>\n",
       "    </tr>\n",
       "    <tr>\n",
       "      <th>3</th>\n",
       "      <td>4</td>\n",
       "      <td>Female</td>\n",
       "      <td>23</td>\n",
       "      <td>16</td>\n",
       "      <td>77</td>\n",
       "    </tr>\n",
       "    <tr>\n",
       "      <th>4</th>\n",
       "      <td>5</td>\n",
       "      <td>Female</td>\n",
       "      <td>31</td>\n",
       "      <td>17</td>\n",
       "      <td>40</td>\n",
       "    </tr>\n",
       "    <tr>\n",
       "      <th>...</th>\n",
       "      <td>...</td>\n",
       "      <td>...</td>\n",
       "      <td>...</td>\n",
       "      <td>...</td>\n",
       "      <td>...</td>\n",
       "    </tr>\n",
       "    <tr>\n",
       "      <th>195</th>\n",
       "      <td>196</td>\n",
       "      <td>Female</td>\n",
       "      <td>35</td>\n",
       "      <td>120</td>\n",
       "      <td>79</td>\n",
       "    </tr>\n",
       "    <tr>\n",
       "      <th>196</th>\n",
       "      <td>197</td>\n",
       "      <td>Female</td>\n",
       "      <td>45</td>\n",
       "      <td>126</td>\n",
       "      <td>28</td>\n",
       "    </tr>\n",
       "    <tr>\n",
       "      <th>197</th>\n",
       "      <td>198</td>\n",
       "      <td>Male</td>\n",
       "      <td>32</td>\n",
       "      <td>126</td>\n",
       "      <td>74</td>\n",
       "    </tr>\n",
       "    <tr>\n",
       "      <th>198</th>\n",
       "      <td>199</td>\n",
       "      <td>Male</td>\n",
       "      <td>32</td>\n",
       "      <td>137</td>\n",
       "      <td>18</td>\n",
       "    </tr>\n",
       "    <tr>\n",
       "      <th>199</th>\n",
       "      <td>200</td>\n",
       "      <td>Male</td>\n",
       "      <td>30</td>\n",
       "      <td>137</td>\n",
       "      <td>83</td>\n",
       "    </tr>\n",
       "  </tbody>\n",
       "</table>\n",
       "<p>200 rows × 5 columns</p>\n",
       "</div>"
      ],
      "text/plain": [
       "     CustomerID  Gender  Age  Annual Income (k$)  Spending Score (1-100)\n",
       "0             1    Male   19                  15                      39\n",
       "1             2    Male   21                  15                      81\n",
       "2             3  Female   20                  16                       6\n",
       "3             4  Female   23                  16                      77\n",
       "4             5  Female   31                  17                      40\n",
       "..          ...     ...  ...                 ...                     ...\n",
       "195         196  Female   35                 120                      79\n",
       "196         197  Female   45                 126                      28\n",
       "197         198    Male   32                 126                      74\n",
       "198         199    Male   32                 137                      18\n",
       "199         200    Male   30                 137                      83\n",
       "\n",
       "[200 rows x 5 columns]"
      ]
     },
     "execution_count": 2,
     "metadata": {},
     "output_type": "execute_result"
    }
   ],
   "source": [
    "data = pd.read_csv(\"/kaggle/input/customer-segmentation-tutorial-in-python/Mall_Customers.csv\")\n",
    "data"
   ]
  },
  {
   "cell_type": "markdown",
   "id": "a41c964f",
   "metadata": {
    "papermill": {
     "duration": 0.006173,
     "end_time": "2023-03-07T09:58:12.412893",
     "exception": false,
     "start_time": "2023-03-07T09:58:12.406720",
     "status": "completed"
    },
    "tags": []
   },
   "source": [
    "Here we can cluster the customers based on age , Income , Gender and Spending Score"
   ]
  },
  {
   "cell_type": "markdown",
   "id": "5cae5f52",
   "metadata": {
    "papermill": {
     "duration": 0.0062,
     "end_time": "2023-03-07T09:58:12.425700",
     "exception": false,
     "start_time": "2023-03-07T09:58:12.419500",
     "status": "completed"
    },
    "tags": []
   },
   "source": [
    "Some more preprocessing before applying the kmeans"
   ]
  },
  {
   "cell_type": "code",
   "execution_count": 3,
   "id": "ffe3c0a0",
   "metadata": {
    "execution": {
     "iopub.execute_input": "2023-03-07T09:58:12.440767Z",
     "iopub.status.busy": "2023-03-07T09:58:12.440284Z",
     "iopub.status.idle": "2023-03-07T09:58:12.453118Z",
     "shell.execute_reply": "2023-03-07T09:58:12.451708Z"
    },
    "papermill": {
     "duration": 0.023621,
     "end_time": "2023-03-07T09:58:12.455869",
     "exception": false,
     "start_time": "2023-03-07T09:58:12.432248",
     "status": "completed"
    },
    "tags": []
   },
   "outputs": [
    {
     "name": "stdout",
     "output_type": "stream",
     "text": [
      "   Gender  Age  Annual_Income  Spending_Score\n",
      "0    Male   19             15              39\n",
      "1    Male   21             15              81\n",
      "2  Female   20             16               6\n",
      "3  Female   23             16              77\n",
      "4  Female   31             17              40\n"
     ]
    }
   ],
   "source": [
    "data.drop(columns =['CustomerID'] , axis=1 , inplace=True)\n",
    "data.rename(columns={'Annual Income (k$)' : 'Annual_Income', 'Spending Score (1-100)' : 'Spending_Score'}, inplace = True)\n",
    "print(data.head())"
   ]
  },
  {
   "cell_type": "code",
   "execution_count": 4,
   "id": "9974d167",
   "metadata": {
    "execution": {
     "iopub.execute_input": "2023-03-07T09:58:12.471673Z",
     "iopub.status.busy": "2023-03-07T09:58:12.470873Z",
     "iopub.status.idle": "2023-03-07T09:58:12.494835Z",
     "shell.execute_reply": "2023-03-07T09:58:12.492985Z"
    },
    "papermill": {
     "duration": 0.035322,
     "end_time": "2023-03-07T09:58:12.497853",
     "exception": false,
     "start_time": "2023-03-07T09:58:12.462531",
     "status": "completed"
    },
    "tags": []
   },
   "outputs": [
    {
     "name": "stdout",
     "output_type": "stream",
     "text": [
      "<class 'pandas.core.frame.DataFrame'>\n",
      "RangeIndex: 200 entries, 0 to 199\n",
      "Data columns (total 4 columns):\n",
      " #   Column          Non-Null Count  Dtype \n",
      "---  ------          --------------  ----- \n",
      " 0   Gender          200 non-null    object\n",
      " 1   Age             200 non-null    int64 \n",
      " 2   Annual_Income   200 non-null    int64 \n",
      " 3   Spending_Score  200 non-null    int64 \n",
      "dtypes: int64(3), object(1)\n",
      "memory usage: 6.4+ KB\n"
     ]
    }
   ],
   "source": [
    "data.info()"
   ]
  },
  {
   "cell_type": "markdown",
   "id": "b8fb7d7c",
   "metadata": {
    "papermill": {
     "duration": 0.006147,
     "end_time": "2023-03-07T09:58:12.510506",
     "exception": false,
     "start_time": "2023-03-07T09:58:12.504359",
     "status": "completed"
    },
    "tags": []
   },
   "source": [
    "**PreAnalysis and Visualisation**"
   ]
  },
  {
   "cell_type": "markdown",
   "id": "20e23d2d",
   "metadata": {
    "papermill": {
     "duration": 0.006125,
     "end_time": "2023-03-07T09:58:12.523016",
     "exception": false,
     "start_time": "2023-03-07T09:58:12.516891",
     "status": "completed"
    },
    "tags": []
   },
   "source": [
    "Clustering can happen based on these parameters"
   ]
  },
  {
   "cell_type": "code",
   "execution_count": 5,
   "id": "c1a9a50a",
   "metadata": {
    "execution": {
     "iopub.execute_input": "2023-03-07T09:58:12.538807Z",
     "iopub.status.busy": "2023-03-07T09:58:12.537369Z",
     "iopub.status.idle": "2023-03-07T09:58:12.543080Z",
     "shell.execute_reply": "2023-03-07T09:58:12.541694Z"
    },
    "papermill": {
     "duration": 0.01617,
     "end_time": "2023-03-07T09:58:12.545669",
     "exception": false,
     "start_time": "2023-03-07T09:58:12.529499",
     "status": "completed"
    },
    "tags": []
   },
   "outputs": [],
   "source": [
    "pred_cols = ['Age','Annual_Income','Spending_Score']"
   ]
  },
  {
   "cell_type": "code",
   "execution_count": 6,
   "id": "341e387b",
   "metadata": {
    "execution": {
     "iopub.execute_input": "2023-03-07T09:58:12.561645Z",
     "iopub.status.busy": "2023-03-07T09:58:12.561176Z",
     "iopub.status.idle": "2023-03-07T09:58:12.970249Z",
     "shell.execute_reply": "2023-03-07T09:58:12.968891Z"
    },
    "papermill": {
     "duration": 0.420904,
     "end_time": "2023-03-07T09:58:12.973197",
     "exception": false,
     "start_time": "2023-03-07T09:58:12.552293",
     "status": "completed"
    },
    "tags": []
   },
   "outputs": [
    {
     "data": {
      "text/plain": [
       "<AxesSubplot:xlabel='Annual_Income', ylabel='Spending_Score'>"
      ]
     },
     "execution_count": 6,
     "metadata": {},
     "output_type": "execute_result"
    },
    {
     "data": {
      "image/png": "[encoded data removed]",
      "text/plain": [
       "<Figure size 640x480 with 1 Axes>"
      ]
     },
     "metadata": {},
     "output_type": "display_data"
    }
   ],
   "source": [
    "sns.scatterplot(data=data,x=\"Annual_Income\",y=\"Spending_Score\",hue=\"Gender\")"
   ]
  },
  {
   "cell_type": "markdown",
   "id": "5290b766",
   "metadata": {
    "papermill": {
     "duration": 0.007322,
     "end_time": "2023-03-07T09:58:12.989261",
     "exception": false,
     "start_time": "2023-03-07T09:58:12.981939",
     "status": "completed"
    },
    "tags": []
   },
   "source": [
    "We will be scaling the data to normalise the datapoints"
   ]
  },
  {
   "cell_type": "code",
   "execution_count": 7,
   "id": "b6b93227",
   "metadata": {
    "execution": {
     "iopub.execute_input": "2023-03-07T09:58:13.007412Z",
     "iopub.status.busy": "2023-03-07T09:58:13.006203Z",
     "iopub.status.idle": "2023-03-07T09:58:13.207626Z",
     "shell.execute_reply": "2023-03-07T09:58:13.206033Z"
    },
    "papermill": {
     "duration": 0.214558,
     "end_time": "2023-03-07T09:58:13.211683",
     "exception": false,
     "start_time": "2023-03-07T09:58:12.997125",
     "status": "completed"
    },
    "tags": []
   },
   "outputs": [
    {
     "name": "stdout",
     "output_type": "stream",
     "text": [
      "[[-1.73899919 -0.43480148]\n",
      " [-1.73899919  1.19570407]\n",
      " [-1.70082976 -1.71591298]\n",
      " [-1.70082976  1.04041783]\n",
      " [-1.66266033 -0.39597992]\n",
      " [-1.66266033  1.00159627]\n",
      " [-1.62449091 -1.71591298]\n",
      " [-1.62449091  1.70038436]\n",
      " [-1.58632148 -1.83237767]\n",
      " [-1.58632148  0.84631002]\n",
      " [-1.58632148 -1.4053405 ]\n",
      " [-1.58632148  1.89449216]\n",
      " [-1.54815205 -1.36651894]\n",
      " [-1.54815205  1.04041783]\n",
      " [-1.54815205 -1.44416206]\n",
      " [-1.54815205  1.11806095]\n",
      " [-1.50998262 -0.59008772]\n",
      " [-1.50998262  0.61338066]\n",
      " [-1.43364376 -0.82301709]\n",
      " [-1.43364376  1.8556706 ]\n",
      " [-1.39547433 -0.59008772]\n",
      " [-1.39547433  0.88513158]\n",
      " [-1.3573049  -1.75473454]\n",
      " [-1.3573049   0.88513158]\n",
      " [-1.24279661 -1.4053405 ]\n",
      " [-1.24279661  1.23452563]\n",
      " [-1.24279661 -0.7065524 ]\n",
      " [-1.24279661  0.41927286]\n",
      " [-1.20462718 -0.74537397]\n",
      " [-1.20462718  1.42863343]\n",
      " [-1.16645776 -1.7935561 ]\n",
      " [-1.16645776  0.88513158]\n",
      " [-1.05194947 -1.7935561 ]\n",
      " [-1.05194947  1.62274124]\n",
      " [-1.05194947 -1.4053405 ]\n",
      " [-1.05194947  1.19570407]\n",
      " [-1.01378004 -1.28887582]\n",
      " [-1.01378004  0.88513158]\n",
      " [-0.89927175 -0.93948177]\n",
      " [-0.89927175  0.96277471]\n",
      " [-0.86110232 -0.59008772]\n",
      " [-0.86110232  1.62274124]\n",
      " [-0.82293289 -0.55126616]\n",
      " [-0.82293289  0.41927286]\n",
      " [-0.82293289 -0.86183865]\n",
      " [-0.82293289  0.5745591 ]\n",
      " [-0.78476346  0.18634349]\n",
      " [-0.78476346 -0.12422899]\n",
      " [-0.78476346 -0.3183368 ]\n",
      " [-0.78476346 -0.3183368 ]\n",
      " [-0.70842461  0.06987881]\n",
      " [-0.70842461  0.38045129]\n",
      " [-0.67025518  0.14752193]\n",
      " [-0.67025518  0.38045129]\n",
      " [-0.67025518 -0.20187212]\n",
      " [-0.67025518 -0.35715836]\n",
      " [-0.63208575 -0.00776431]\n",
      " [-0.63208575 -0.16305055]\n",
      " [-0.55574689  0.03105725]\n",
      " [-0.55574689 -0.16305055]\n",
      " [-0.55574689  0.22516505]\n",
      " [-0.55574689  0.18634349]\n",
      " [-0.51757746  0.06987881]\n",
      " [-0.51757746  0.34162973]\n",
      " [-0.47940803  0.03105725]\n",
      " [-0.47940803  0.34162973]\n",
      " [-0.47940803 -0.00776431]\n",
      " [-0.47940803 -0.08540743]\n",
      " [-0.47940803  0.34162973]\n",
      " [-0.47940803 -0.12422899]\n",
      " [-0.4412386   0.18634349]\n",
      " [-0.4412386  -0.3183368 ]\n",
      " [-0.40306917 -0.04658587]\n",
      " [-0.40306917  0.22516505]\n",
      " [-0.25039146 -0.12422899]\n",
      " [-0.25039146  0.14752193]\n",
      " [-0.25039146  0.10870037]\n",
      " [-0.25039146 -0.08540743]\n",
      " [-0.25039146  0.06987881]\n",
      " [-0.25039146 -0.3183368 ]\n",
      " [-0.25039146  0.03105725]\n",
      " [-0.25039146  0.18634349]\n",
      " [-0.25039146 -0.35715836]\n",
      " [-0.25039146 -0.24069368]\n",
      " [-0.25039146  0.26398661]\n",
      " [-0.25039146 -0.16305055]\n",
      " [-0.13588317  0.30280817]\n",
      " [-0.13588317  0.18634349]\n",
      " [-0.09771374  0.38045129]\n",
      " [-0.09771374 -0.16305055]\n",
      " [-0.05954431  0.18634349]\n",
      " [-0.05954431 -0.35715836]\n",
      " [-0.02137488 -0.04658587]\n",
      " [-0.02137488 -0.39597992]\n",
      " [-0.02137488 -0.3183368 ]\n",
      " [-0.02137488  0.06987881]\n",
      " [-0.02137488 -0.12422899]\n",
      " [-0.02137488 -0.00776431]\n",
      " [ 0.01679455 -0.3183368 ]\n",
      " [ 0.01679455 -0.04658587]\n",
      " [ 0.05496398 -0.35715836]\n",
      " [ 0.05496398 -0.08540743]\n",
      " [ 0.05496398  0.34162973]\n",
      " [ 0.05496398  0.18634349]\n",
      " [ 0.05496398  0.22516505]\n",
      " [ 0.05496398 -0.3183368 ]\n",
      " [ 0.09313341 -0.00776431]\n",
      " [ 0.09313341 -0.16305055]\n",
      " [ 0.09313341 -0.27951524]\n",
      " [ 0.09313341 -0.08540743]\n",
      " [ 0.09313341  0.06987881]\n",
      " [ 0.09313341  0.14752193]\n",
      " [ 0.13130284 -0.3183368 ]\n",
      " [ 0.13130284 -0.16305055]\n",
      " [ 0.16947227 -0.08540743]\n",
      " [ 0.16947227 -0.00776431]\n",
      " [ 0.16947227 -0.27951524]\n",
      " [ 0.16947227  0.34162973]\n",
      " [ 0.24581112 -0.27951524]\n",
      " [ 0.24581112  0.26398661]\n",
      " [ 0.24581112  0.22516505]\n",
      " [ 0.24581112 -0.39597992]\n",
      " [ 0.32214998  0.30280817]\n",
      " [ 0.32214998  1.58391968]\n",
      " [ 0.36031941 -0.82301709]\n",
      " [ 0.36031941  1.04041783]\n",
      " [ 0.39848884 -0.59008772]\n",
      " [ 0.39848884  1.73920592]\n",
      " [ 0.39848884 -1.52180518]\n",
      " [ 0.39848884  0.96277471]\n",
      " [ 0.39848884 -1.5994483 ]\n",
      " [ 0.39848884  0.96277471]\n",
      " [ 0.43665827 -0.62890928]\n",
      " [ 0.43665827  0.80748846]\n",
      " [ 0.4748277  -1.75473454]\n",
      " [ 0.4748277   1.46745499]\n",
      " [ 0.4748277  -1.67709142]\n",
      " [ 0.4748277   0.88513158]\n",
      " [ 0.51299713 -1.56062674]\n",
      " [ 0.51299713  0.84631002]\n",
      " [ 0.55116656 -1.75473454]\n",
      " [ 0.55116656  1.6615628 ]\n",
      " [ 0.58933599 -0.39597992]\n",
      " [ 0.58933599  1.42863343]\n",
      " [ 0.62750542 -1.48298362]\n",
      " [ 0.62750542  1.81684904]\n",
      " [ 0.62750542 -0.55126616]\n",
      " [ 0.62750542  0.92395314]\n",
      " [ 0.66567484 -1.09476801]\n",
      " [ 0.66567484  1.54509812]\n",
      " [ 0.66567484 -1.28887582]\n",
      " [ 0.66567484  1.46745499]\n",
      " [ 0.66567484 -1.17241113]\n",
      " [ 0.66567484  1.00159627]\n",
      " [ 0.66567484 -1.32769738]\n",
      " [ 0.66567484  1.50627656]\n",
      " [ 0.66567484 -1.91002079]\n",
      " [ 0.66567484  1.07923939]\n",
      " [ 0.66567484 -1.91002079]\n",
      " [ 0.66567484  0.88513158]\n",
      " [ 0.70384427 -0.59008772]\n",
      " [ 0.70384427  1.27334719]\n",
      " [ 0.78018313 -1.75473454]\n",
      " [ 0.78018313  1.6615628 ]\n",
      " [ 0.93286085 -0.93948177]\n",
      " [ 0.93286085  0.96277471]\n",
      " [ 0.97103028 -1.17241113]\n",
      " [ 0.97103028  1.73920592]\n",
      " [ 1.00919971 -0.90066021]\n",
      " [ 1.00919971  0.49691598]\n",
      " [ 1.00919971 -1.44416206]\n",
      " [ 1.00919971  0.96277471]\n",
      " [ 1.00919971 -1.56062674]\n",
      " [ 1.00919971  1.62274124]\n",
      " [ 1.04736914 -1.44416206]\n",
      " [ 1.04736914  1.38981187]\n",
      " [ 1.04736914 -1.36651894]\n",
      " [ 1.04736914  0.72984534]\n",
      " [ 1.23821628 -1.4053405 ]\n",
      " [ 1.23821628  1.54509812]\n",
      " [ 1.390894   -0.7065524 ]\n",
      " [ 1.390894    1.38981187]\n",
      " [ 1.42906343 -1.36651894]\n",
      " [ 1.42906343  1.46745499]\n",
      " [ 1.46723286 -0.43480148]\n",
      " [ 1.46723286  1.81684904]\n",
      " [ 1.54357172 -1.01712489]\n",
      " [ 1.54357172  0.69102378]\n",
      " [ 1.61991057 -1.28887582]\n",
      " [ 1.61991057  1.35099031]\n",
      " [ 1.61991057 -1.05594645]\n",
      " [ 1.61991057  0.72984534]\n",
      " [ 2.00160487 -1.63826986]\n",
      " [ 2.00160487  1.58391968]\n",
      " [ 2.26879087 -1.32769738]\n",
      " [ 2.26879087  1.11806095]\n",
      " [ 2.49780745 -0.86183865]\n",
      " [ 2.49780745  0.92395314]\n",
      " [ 2.91767117 -1.25005425]\n",
      " [ 2.91767117  1.27334719]]\n"
     ]
    }
   ],
   "source": [
    "from sklearn.preprocessing import StandardScaler\n",
    "scaler=StandardScaler()\n",
    "x=data.iloc[:,2:]\n",
    "x_scaled=scaler.fit_transform(x)\n",
    "print(x_scaled)"
   ]
  },
  {
   "cell_type": "markdown",
   "id": "a4a5a925",
   "metadata": {
    "papermill": {
     "duration": 0.007808,
     "end_time": "2023-03-07T09:58:13.230755",
     "exception": false,
     "start_time": "2023-03-07T09:58:13.222947",
     "status": "completed"
    },
    "tags": []
   },
   "source": [
    "Trying the Elbow technique and getting the optimal K value"
   ]
  },
  {
   "cell_type": "code",
   "execution_count": 8,
   "id": "6a785e58",
   "metadata": {
    "execution": {
     "iopub.execute_input": "2023-03-07T09:58:13.248727Z",
     "iopub.status.busy": "2023-03-07T09:58:13.248312Z",
     "iopub.status.idle": "2023-03-07T09:58:14.532330Z",
     "shell.execute_reply": "2023-03-07T09:58:14.530451Z"
    },
    "papermill": {
     "duration": 1.297054,
     "end_time": "2023-03-07T09:58:14.535697",
     "exception": false,
     "start_time": "2023-03-07T09:58:13.238643",
     "status": "completed"
    },
    "tags": []
   },
   "outputs": [
    {
     "data": {
      "image/png": "[encoded data removed]",
      "text/plain": [
       "<Figure size 1000x500 with 1 Axes>"
      ]
     },
     "metadata": {},
     "output_type": "display_data"
    }
   ],
   "source": [
    "from sklearn.cluster import KMeans\n",
    "from sklearn import preprocessing\n",
    "\n",
    "le = preprocessing.LabelEncoder()\n",
    "\n",
    "data['Gender'] = le.fit_transform(data['Gender'])\n",
    "\n",
    "sse=[]\n",
    "clusters=range(1,12)\n",
    "for cluster in clusters:\n",
    "    kmeans = KMeans(n_clusters=cluster, init='k-means++',random_state=42)\n",
    "    kmeans.fit(x_scaled)\n",
    "    sse.append(kmeans.inertia_)\n",
    "\n",
    "plt.figure(figsize=(10,5))\n",
    "plt.plot(clusters,sse)\n",
    "plt.xlabel('Clusters')\n",
    "plt.ylabel('Inertia')\n",
    "plt.show()"
   ]
  },
  {
   "cell_type": "markdown",
   "id": "1572004f",
   "metadata": {
    "papermill": {
     "duration": 0.008181,
     "end_time": "2023-03-07T09:58:14.553016",
     "exception": false,
     "start_time": "2023-03-07T09:58:14.544835",
     "status": "completed"
    },
    "tags": []
   },
   "source": [
    "We notice from the above elbow plot that the optimal K value would be 5"
   ]
  },
  {
   "cell_type": "code",
   "execution_count": 9,
   "id": "9adaa3a2",
   "metadata": {
    "execution": {
     "iopub.execute_input": "2023-03-07T09:58:14.574690Z",
     "iopub.status.busy": "2023-03-07T09:58:14.572805Z",
     "iopub.status.idle": "2023-03-07T09:58:14.623196Z",
     "shell.execute_reply": "2023-03-07T09:58:14.621996Z"
    },
    "papermill": {
     "duration": 0.064715,
     "end_time": "2023-03-07T09:58:14.626215",
     "exception": false,
     "start_time": "2023-03-07T09:58:14.561500",
     "status": "completed"
    },
    "tags": []
   },
   "outputs": [
    {
     "data": {
      "text/plain": [
       "KMeans(n_clusters=5)"
      ]
     },
     "execution_count": 9,
     "metadata": {},
     "output_type": "execute_result"
    }
   ],
   "source": [
    "kmeans = KMeans(n_clusters = 5, init = 'k-means++')\n",
    "kmeans.fit(x_scaled)"
   ]
  },
  {
   "cell_type": "markdown",
   "id": "346ca9ab",
   "metadata": {
    "papermill": {
     "duration": 0.00813,
     "end_time": "2023-03-07T09:58:14.643063",
     "exception": false,
     "start_time": "2023-03-07T09:58:14.634933",
     "status": "completed"
    },
    "tags": []
   },
   "source": [
    "SSE of the model"
   ]
  },
  {
   "cell_type": "code",
   "execution_count": 10,
   "id": "a94ead83",
   "metadata": {
    "execution": {
     "iopub.execute_input": "2023-03-07T09:58:14.661475Z",
     "iopub.status.busy": "2023-03-07T09:58:14.661019Z",
     "iopub.status.idle": "2023-03-07T09:58:14.668886Z",
     "shell.execute_reply": "2023-03-07T09:58:14.667609Z"
    },
    "papermill": {
     "duration": 0.020004,
     "end_time": "2023-03-07T09:58:14.671367",
     "exception": false,
     "start_time": "2023-03-07T09:58:14.651363",
     "status": "completed"
    },
    "tags": []
   },
   "outputs": [
    {
     "data": {
      "text/plain": [
       "65.56840815571681"
      ]
     },
     "execution_count": 10,
     "metadata": {},
     "output_type": "execute_result"
    }
   ],
   "source": [
    "kmeans.inertia_"
   ]
  },
  {
   "cell_type": "markdown",
   "id": "90dceddc",
   "metadata": {
    "papermill": {
     "duration": 0.008184,
     "end_time": "2023-03-07T09:58:14.688041",
     "exception": false,
     "start_time": "2023-03-07T09:58:14.679857",
     "status": "completed"
    },
    "tags": []
   },
   "source": [
    "After Clustering the records into cluster ... printing cluster labels"
   ]
  },
  {
   "cell_type": "code",
   "execution_count": 11,
   "id": "b84149da",
   "metadata": {
    "execution": {
     "iopub.execute_input": "2023-03-07T09:58:14.707270Z",
     "iopub.status.busy": "2023-03-07T09:58:14.706395Z",
     "iopub.status.idle": "2023-03-07T09:58:14.717475Z",
     "shell.execute_reply": "2023-03-07T09:58:14.715469Z"
    },
    "papermill": {
     "duration": 0.025515,
     "end_time": "2023-03-07T09:58:14.721942",
     "exception": false,
     "start_time": "2023-03-07T09:58:14.696427",
     "status": "completed"
    },
    "tags": []
   },
   "outputs": [
    {
     "name": "stdout",
     "output_type": "stream",
     "text": [
      "[4 3 4 3 4 3 4 3 4 3 4 3 4 3 4 3 4 3 4 3 4 3 4 3 4 3 4 3 4 3 4 3 4 3 4 3 4\n",
      " 3 4 3 4 3 4 0 4 3 0 0 0 0 0 0 0 0 0 0 0 0 0 0 0 0 0 0 0 0 0 0 0 0 0 0 0 0\n",
      " 0 0 0 0 0 0 0 0 0 0 0 0 0 0 0 0 0 0 0 0 0 0 0 0 0 0 0 0 0 0 0 0 0 0 0 0 0\n",
      " 0 0 0 0 0 0 0 0 0 0 0 0 2 1 2 0 2 1 2 1 2 0 2 1 2 1 2 1 2 1 2 0 2 1 2 1 2\n",
      " 1 2 1 2 1 2 1 2 1 2 1 2 1 2 1 2 1 2 1 2 1 2 1 2 1 2 1 2 1 2 1 2 1 2 1 2 1\n",
      " 2 1 2 1 2 1 2 1 2 1 2 1 2 1 2]\n"
     ]
    }
   ],
   "source": [
    "pred=kmeans.predict(x_scaled)\n",
    "print(pred)"
   ]
  },
  {
   "cell_type": "markdown",
   "id": "af92cbba",
   "metadata": {
    "papermill": {
     "duration": 0.008279,
     "end_time": "2023-03-07T09:58:14.740482",
     "exception": false,
     "start_time": "2023-03-07T09:58:14.732203",
     "status": "completed"
    },
    "tags": []
   },
   "source": [
    "**Evaluation**\\\n",
    "Silhouette Score returns the similarity of the datapoint within cluster compared to other clusters"
   ]
  },
  {
   "cell_type": "code",
   "execution_count": 12,
   "id": "b454e461",
   "metadata": {
    "execution": {
     "iopub.execute_input": "2023-03-07T09:58:14.758955Z",
     "iopub.status.busy": "2023-03-07T09:58:14.758557Z",
     "iopub.status.idle": "2023-03-07T09:58:14.779647Z",
     "shell.execute_reply": "2023-03-07T09:58:14.775711Z"
    },
    "papermill": {
     "duration": 0.036812,
     "end_time": "2023-03-07T09:58:14.785719",
     "exception": false,
     "start_time": "2023-03-07T09:58:14.748907",
     "status": "completed"
    },
    "tags": []
   },
   "outputs": [
    {
     "name": "stdout",
     "output_type": "stream",
     "text": [
      "0.5546571631111091\n"
     ]
    }
   ],
   "source": [
    "from sklearn.metrics import silhouette_score\n",
    "silhouette_score= silhouette_score(x_scaled,pred,metric=\"euclidean\")\n",
    "print(silhouette_score)"
   ]
  },
  {
   "cell_type": "code",
   "execution_count": 13,
   "id": "1579076c",
   "metadata": {
    "execution": {
     "iopub.execute_input": "2023-03-07T09:58:14.834349Z",
     "iopub.status.busy": "2023-03-07T09:58:14.833545Z",
     "iopub.status.idle": "2023-03-07T09:58:14.874154Z",
     "shell.execute_reply": "2023-03-07T09:58:14.872287Z"
    },
    "papermill": {
     "duration": 0.071126,
     "end_time": "2023-03-07T09:58:14.879801",
     "exception": false,
     "start_time": "2023-03-07T09:58:14.808675",
     "status": "completed"
    },
    "tags": []
   },
   "outputs": [
    {
     "data": {
      "text/html": [
       "<div>\n",
       "<style scoped>\n",
       "    .dataframe tbody tr th:only-of-type {\n",
       "        vertical-align: middle;\n",
       "    }\n",
       "\n",
       "    .dataframe tbody tr th {\n",
       "        vertical-align: top;\n",
       "    }\n",
       "\n",
       "    .dataframe thead th {\n",
       "        text-align: right;\n",
       "    }\n",
       "</style>\n",
       "<table border=\"1\" class=\"dataframe\">\n",
       "  <thead>\n",
       "    <tr style=\"text-align: right;\">\n",
       "      <th></th>\n",
       "      <th>Gender</th>\n",
       "      <th>Age</th>\n",
       "      <th>Annual_Income</th>\n",
       "      <th>Spending_Score</th>\n",
       "      <th>Cluster</th>\n",
       "    </tr>\n",
       "  </thead>\n",
       "  <tbody>\n",
       "    <tr>\n",
       "      <th>0</th>\n",
       "      <td>1</td>\n",
       "      <td>19</td>\n",
       "      <td>15</td>\n",
       "      <td>39</td>\n",
       "      <td>4</td>\n",
       "    </tr>\n",
       "    <tr>\n",
       "      <th>1</th>\n",
       "      <td>1</td>\n",
       "      <td>21</td>\n",
       "      <td>15</td>\n",
       "      <td>81</td>\n",
       "      <td>3</td>\n",
       "    </tr>\n",
       "    <tr>\n",
       "      <th>2</th>\n",
       "      <td>0</td>\n",
       "      <td>20</td>\n",
       "      <td>16</td>\n",
       "      <td>6</td>\n",
       "      <td>4</td>\n",
       "    </tr>\n",
       "    <tr>\n",
       "      <th>3</th>\n",
       "      <td>0</td>\n",
       "      <td>23</td>\n",
       "      <td>16</td>\n",
       "      <td>77</td>\n",
       "      <td>3</td>\n",
       "    </tr>\n",
       "    <tr>\n",
       "      <th>4</th>\n",
       "      <td>0</td>\n",
       "      <td>31</td>\n",
       "      <td>17</td>\n",
       "      <td>40</td>\n",
       "      <td>4</td>\n",
       "    </tr>\n",
       "    <tr>\n",
       "      <th>...</th>\n",
       "      <td>...</td>\n",
       "      <td>...</td>\n",
       "      <td>...</td>\n",
       "      <td>...</td>\n",
       "      <td>...</td>\n",
       "    </tr>\n",
       "    <tr>\n",
       "      <th>195</th>\n",
       "      <td>0</td>\n",
       "      <td>35</td>\n",
       "      <td>120</td>\n",
       "      <td>79</td>\n",
       "      <td>2</td>\n",
       "    </tr>\n",
       "    <tr>\n",
       "      <th>196</th>\n",
       "      <td>0</td>\n",
       "      <td>45</td>\n",
       "      <td>126</td>\n",
       "      <td>28</td>\n",
       "      <td>1</td>\n",
       "    </tr>\n",
       "    <tr>\n",
       "      <th>197</th>\n",
       "      <td>1</td>\n",
       "      <td>32</td>\n",
       "      <td>126</td>\n",
       "      <td>74</td>\n",
       "      <td>2</td>\n",
       "    </tr>\n",
       "    <tr>\n",
       "      <th>198</th>\n",
       "      <td>1</td>\n",
       "      <td>32</td>\n",
       "      <td>137</td>\n",
       "      <td>18</td>\n",
       "      <td>1</td>\n",
       "    </tr>\n",
       "    <tr>\n",
       "      <th>199</th>\n",
       "      <td>1</td>\n",
       "      <td>30</td>\n",
       "      <td>137</td>\n",
       "      <td>83</td>\n",
       "      <td>2</td>\n",
       "    </tr>\n",
       "  </tbody>\n",
       "</table>\n",
       "<p>200 rows × 5 columns</p>\n",
       "</div>"
      ],
      "text/plain": [
       "     Gender  Age  Annual_Income  Spending_Score  Cluster\n",
       "0         1   19             15              39        4\n",
       "1         1   21             15              81        3\n",
       "2         0   20             16               6        4\n",
       "3         0   23             16              77        3\n",
       "4         0   31             17              40        4\n",
       "..      ...  ...            ...             ...      ...\n",
       "195       0   35            120              79        2\n",
       "196       0   45            126              28        1\n",
       "197       1   32            126              74        2\n",
       "198       1   32            137              18        1\n",
       "199       1   30            137              83        2\n",
       "\n",
       "[200 rows x 5 columns]"
      ]
     },
     "execution_count": 13,
     "metadata": {},
     "output_type": "execute_result"
    }
   ],
   "source": [
    "#Appending the cluster label to the dataset\n",
    "data['Cluster'] = pred\n",
    "data"
   ]
  },
  {
   "cell_type": "code",
   "execution_count": 14,
   "id": "6dfed09c",
   "metadata": {
    "execution": {
     "iopub.execute_input": "2023-03-07T09:58:14.903372Z",
     "iopub.status.busy": "2023-03-07T09:58:14.902929Z",
     "iopub.status.idle": "2023-03-07T09:58:15.350639Z",
     "shell.execute_reply": "2023-03-07T09:58:15.349437Z"
    },
    "papermill": {
     "duration": 0.460809,
     "end_time": "2023-03-07T09:58:15.353327",
     "exception": false,
     "start_time": "2023-03-07T09:58:14.892518",
     "status": "completed"
    },
    "tags": []
   },
   "outputs": [
    {
     "data": {
      "text/plain": [
       "<AxesSubplot:xlabel='Spending_Score', ylabel='Annual_Income'>"
      ]
     },
     "execution_count": 14,
     "metadata": {},
     "output_type": "execute_result"
    },
    {
     "data": {
      "image/png": "[encoded data removed]",
      "text/plain": [
       "<Figure size 640x480 with 1 Axes>"
      ]
     },
     "metadata": {},
     "output_type": "display_data"
    }
   ],
   "source": [
    "sns.scatterplot(x=\"Spending_Score\",y=\"Annual_Income\",hue ='Cluster',data=data,palette=\"flare\")"
   ]
  },
  {
   "cell_type": "markdown",
   "id": "9a956117",
   "metadata": {
    "papermill": {
     "duration": 0.009677,
     "end_time": "2023-03-07T09:58:15.374274",
     "exception": false,
     "start_time": "2023-03-07T09:58:15.364597",
     "status": "completed"
    },
    "tags": []
   },
   "source": [
    "Here the people records are split into various categories..\\\n",
    " cat 0 : earn medium and spend medium \\\n",
    " cat 1 : earn high and spend little more than medium \\\n",
    " cat 2 : earn less and spend less \\\n",
    " cat 3 : earn high and spend less \\\n",
    " cat 4 : earn less and spend high "
   ]
  }
 ],
 "metadata": {
  "kernelspec": {
   "display_name": "Python 3",
   "language": "python",
   "name": "python3"
  },
  "language_info": {
   "codemirror_mode": {
    "name": "ipython",
    "version": 3
   },
   "file_extension": ".py",
   "mimetype": "text/x-python",
   "name": "python",
   "nbconvert_exporter": "python",
   "pygments_lexer": "ipython3",
   "version": "3.7.12"
  },
  "papermill": {
   "default_parameters": {},
   "duration": 16.911662,
   "end_time": "2023-03-07T09:58:16.306981",
   "environment_variables": {},
   "exception": null,
   "input_path": "__notebook__.ipynb",
   "output_path": "__notebook__.ipynb",
   "parameters": {},
   "start_time": "2023-03-07T09:57:59.395319",
   "version": "2.4.0"
  }
 },
 "nbformat": 4,
 "nbformat_minor": 5
}
